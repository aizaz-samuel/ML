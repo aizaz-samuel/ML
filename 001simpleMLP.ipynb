{
 "cells": [
  {
   "cell_type": "markdown",
   "metadata": {},
   "source": [
    "## Simple MLP with architecture of 2-2-1"
   ]
  },
  {
   "cell_type": "code",
   "execution_count": 5,
   "metadata": {},
   "outputs": [
    {
     "data": {
      "image/png": "[encoded data removed]",
      "text/plain": [
       "<Figure size 720x504 with 1 Axes>"
      ]
     },
     "metadata": {
      "needs_background": "light"
     },
     "output_type": "display_data"
    }
   ],
   "source": [
    "# Binary classification problem\n",
    "# simple MLP neural network with hidden layer, RMSE loss and sigmoid activation\n",
    "\n",
    "import numpy as np\n",
    "import sklearn.datasets as dts\n",
    "import matplotlib.pyplot as plt\n",
    "\n",
    "def sigmoid(x):\n",
    "    return 1/(1+np.exp(-x))\n",
    "\n",
    "# derivative of sigmoid / logistic\n",
    "def sigmoid_der(x):\n",
    "    return sigmoid(x)*(1-sigmoid(x))\n",
    "\n",
    "# debug=True\n",
    "debug=False\n",
    "plotonly=True\n",
    "# plotonly=False\n",
    "\n",
    "# make dataset\n",
    "np.random.seed(0)\n",
    "feature_set, labels = dts.make_moons(100, noise=0.10)\n",
    "\n",
    "# plot the data\n",
    "if(plotonly):\n",
    "    plt.figure(figsize=(10,7))\n",
    "    plt.scatter(feature_set[:,0], feature_set[:,1], c=labels, cmap=plt.cm.winter)\n",
    "    plt.show()\n",
    "    exit\n"
   ]
  },
  {
   "cell_type": "code",
   "execution_count": 7,
   "metadata": {},
   "outputs": [
    {
     "name": "stdout",
     "output_type": "stream",
     "text": [
      "wh,wo =  [[-0.18853461 -1.0983699  -1.037495    0.40463482]\n",
      " [-0.58447423  2.66862364  0.23530764 -2.48933712]]   [[ 0.99179387]\n",
      " [-3.33584331]\n",
      " [-0.0207993 ]\n",
      " [ 2.96099861]]\n"
     ]
    }
   ],
   "source": [
    "\n",
    "labels = labels.reshape(100, 1)\n",
    "\n",
    "# Set seed to gen random numbers so that same RN are generated each time\n",
    "# np.random.seed(42)\n",
    "\n",
    "wh = np.random.rand(len(feature_set[0]),4)\n",
    "wo = np.random.rand(4,1)\n",
    "bias = np.random.rand(1)\n",
    "lr = 0.5\n",
    "\n",
    "# train the NN\n",
    "for epoch in range(10):\n",
    "    # forward feed input -> hidden layer 1 (In -> HL1)\n",
    "    XWh = np.dot(feature_set,wh)\n",
    "    Zh  = sigmoid(XWh)\n",
    "\n",
    "    # forward hidden layer 1 -> output (HL1 -> Out)\n",
    "    XWo = np.dot(Zh,wo)\n",
    "    Zo = sigmoid(XWo)\n",
    "\n",
    "    if(debug):\n",
    "        print(\"feature_set.shape = \",feature_set.shape) # (u,n)\n",
    "        print(\"labels.shape = \",labels.shape)           # (u,1)\n",
    "        print(\"XWh.shape    = \",XWh.shape)     # (u,d)\n",
    "        print(\"Zh.shape     = \",Zh.shape)      # (u,d)\n",
    "        print(\"XWo.shape    = \",XWo.shape)     # (u,1)\n",
    "        print(\"Zo.shape     = \",Zo.shape)      # (u,1)\n",
    "\n",
    "    # backpropagation phase 1 (Out -> HL1)\n",
    "    error = Zo - labels\n",
    "    RMSE = np.sqrt(0.5 * (np.power(error,2)))\n",
    "    #print(\"Sigma error = \",RMSE.sum())\n",
    "\n",
    "    dcost_by_dZo = error\n",
    "    dZo_by_dXWo = sigmoid_der(XWo)\n",
    "    dXWo_by_dwo = Zh\n",
    "    Zo_Delta = dcost_by_dZo * dZo_by_dXWo\n",
    "    dcost_by_dwo = np.dot(Zh.T,Zo_Delta)\n",
    "\n",
    "    if(debug):\n",
    "        print(\"error        = \",error.shape)            # (u,1)\n",
    "        print(\"dcost_by_dZo = \",dcost_by_dZo.shape)     # (u,1)\n",
    "        print(\"dZo_by_dXWo  = \",dZo_by_dXWo.shape)      # (u,1)\n",
    "        print(\"dXWo_by_dwo  = \",dXWo_by_dwo.shape)      # (u,d)\n",
    "        print(\"Zo_Delta     = \",Zo_Delta.shape)         # (n,1)\n",
    "        print(\"dcost_by_dwo = \",dcost_by_dwo.shape)\n",
    "\n",
    "    # backpropagation phase 2 (HL1 -> In)\n",
    "    #dcost_by_dwh = dcost_by_dZh * dZh_by_dXWh * dXWh_by_dwh\n",
    "    #dcost_by_dZh = dcost_by_dXWo * dXWo_by_dZh\n",
    "    dcost_by_dXWo = Zo_Delta\n",
    "    dXWo_by_dZh = wo\n",
    "    dcost_by_dZh = np.dot(Zo_Delta,wo.T)\n",
    "    dcost_by_dXWh = dcost_by_dZh * sigmoid_der(XWh)\n",
    "    dcost_by_dWh = np.dot(feature_set.T,dcost_by_dXWh)\n",
    "\n",
    "    if(debug):\n",
    "        print(\"backpropagation phase II\")\n",
    "        print(\"dcost_by_dXWo = \",dcost_by_dXWo.shape)   # (n,1)\n",
    "        print(\"dXWo_by_dZh   = \",dXWo_by_dZh.shape)     # (d,1)\n",
    "        print(\"dcost_by_dZh  = \",dcost_by_dZh.shape)    # (n,1)\n",
    "        print(\"wo  = \",wo.shape)    # (n,1)\n",
    "        print(\"dcost_by_dXWh  = \",dcost_by_dXWh.shape)    # (n,1)\n",
    "        print(\"dcost_by_dWh  = \",dcost_by_dWh.shape)    # (n,1)\n",
    "        print(\"Zh = \",Zh.shape)\n",
    "\n",
    "    # update weights\n",
    "    wh -= lr * dcost_by_dWh\n",
    "    wo -= lr * dcost_by_dwo\n",
    "print(\"wh,wo = \",wh,\" \",wo)\n"
   ]
  },
  {
   "cell_type": "code",
   "execution_count": null,
   "metadata": {},
   "outputs": [],
   "source": []
  }
 ],
 "metadata": {
  "kernelspec": {
   "display_name": "Python 3",
   "language": "python",
   "name": "python3"
  },
  "language_info": {
   "codemirror_mode": {
    "name": "ipython",
    "version": 3
   },
   "file_extension": ".py",
   "mimetype": "text/x-python",
   "name": "python",
   "nbconvert_exporter": "python",
   "pygments_lexer": "ipython3",
   "version": "3.6.9"
  }
 },
 "nbformat": 4,
 "nbformat_minor": 4
}
